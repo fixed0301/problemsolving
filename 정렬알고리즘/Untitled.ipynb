{
 "cells": [
  {
   "cell_type": "code",
   "execution_count": null,
   "id": "1444c541",
   "metadata": {},
   "outputs": [],
   "source": [
    "'''n, m = map(int, input().split())\n",
    "s = []\n",
    "def ans(start):\n",
    "    if len(s) == m:\n",
    "        print(' '.join(map(str, s))) 원래는 map 에 함수가 있는거네\n",
    "        return 0\n",
    "    for i in range(1, n+1):\n",
    "        if i not in s:\n",
    "            s.append(i)\n",
    "            ans()\n",
    "            s.pop()'''\n",
    "'''\n",
    "def ans(start):\n",
    "    if len(s) == m:\n",
    "        print(' '.join(map(str, s)))\n",
    "        return\n",
    "    for i in range(start, n+1):\n",
    "        if i not in s: #중복 확인 코드\n",
    "            s.append(i)\n",
    "            ans(i+1)\n",
    "            s.pop()\n",
    "ans(1)\n",
    "'''\n",
    "n, m = map(int, input().split())\n",
    "s = []\n",
    "\n",
    "def back(start):\n",
    "    if len(s) == m:\n",
    "        print(' '.join(map(str, s)))\n",
    "        return\n",
    "    for i in range(start, n+1):\n",
    "        s.append(i)\n",
    "        back(i)\n",
    "        s.pop()\n",
    "\n",
    "back(1)"
   ]
  }
 ],
 "metadata": {
  "kernelspec": {
   "display_name": "Python 3 (ipykernel)",
   "language": "python",
   "name": "python3"
  },
  "language_info": {
   "codemirror_mode": {
    "name": "ipython",
    "version": 3
   },
   "file_extension": ".py",
   "mimetype": "text/x-python",
   "name": "python",
   "nbconvert_exporter": "python",
   "pygments_lexer": "ipython3",
   "version": "3.9.13"
  }
 },
 "nbformat": 4,
 "nbformat_minor": 5
}
